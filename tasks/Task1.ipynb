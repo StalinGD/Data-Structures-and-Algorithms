{
 "cells": [
  {
   "cell_type": "markdown",
   "metadata": {},
   "source": [
    "# Задание 1"
   ]
  },
  {
   "cell_type": "markdown",
   "metadata": {},
   "source": [
    "Даны две строки: `s1` и `s2` с одинаковым размером.\n",
    "\n",
    "Проверьте, может ли некоторая перестановка строки `s1` “победить” некоторую перестановку строки `s2` или наоборот.\n",
    "\n",
    "Строка x может “победить” строку y (обе имеют размер n), если `x[i] >= y[i]` (в алфавитном порядке) для всех i от 0 до n-1.\n"
   ]
  },
  {
   "cell_type": "markdown",
   "metadata": {},
   "source": [
    "## Ввод"
   ]
  },
  {
   "cell_type": "markdown",
   "metadata": {},
   "source": [
    "`abc`\n",
    "`xya`"
   ]
  },
  {
   "cell_type": "markdown",
   "metadata": {},
   "source": [
    "## Вывод"
   ]
  },
  {
   "cell_type": "markdown",
   "metadata": {},
   "source": [
    "`True`\n",
    "\n",
    "### Исполняемый код записать в ячейку ниже:"
   ]
  },
  {
   "cell_type": "code",
   "execution_count": 1,
   "metadata": {},
   "outputs": [
    {
     "data": {
      "text/plain": [
       "True"
      ]
     },
     "execution_count": 1,
     "metadata": {},
     "output_type": "execute_result"
    }
   ],
   "source": [
    "def test_for_winner(s1, s2):\n",
    "    a = sorted(s1)\n",
    "    b = sorted(s2)\n",
    "    \n",
    "    greater = less = False\n",
    "    for i in range(len(a)):\n",
    "        item_a = a[i]\n",
    "        item_b = b[i]\n",
    "        if item_a > item_b:\n",
    "            greater = True\n",
    "        elif item_a < item_b:\n",
    "            less = True\n",
    "    return (not (greater and less))\n",
    "            \n",
    "test_for_winner(\"abc\", \"xya\")"
   ]
  },
  {
   "cell_type": "markdown",
   "metadata": {},
   "source": [
    "# Задание 2"
   ]
  },
  {
   "cell_type": "markdown",
   "metadata": {},
   "source": [
    "Дана строка `s`, вернуть самую длинную полиндромную подстроку в `s`."
   ]
  },
  {
   "cell_type": "markdown",
   "metadata": {},
   "source": [
    "## Ввод"
   ]
  },
  {
   "cell_type": "markdown",
   "metadata": {},
   "source": [
    "`babad`"
   ]
  },
  {
   "cell_type": "markdown",
   "metadata": {},
   "source": [
    "## Вывод"
   ]
  },
  {
   "cell_type": "markdown",
   "metadata": {},
   "source": [
    "`aba` или `bab`"
   ]
  },
  {
   "cell_type": "markdown",
   "metadata": {},
   "source": [
    "## Исполняемый код записывать в ячейку ниже"
   ]
  },
  {
   "cell_type": "code",
   "execution_count": 2,
   "metadata": {},
   "outputs": [
    {
     "data": {
      "text/plain": [
       "'bab'"
      ]
     },
     "execution_count": 2,
     "metadata": {},
     "output_type": "execute_result"
    }
   ],
   "source": [
    "def check_slice_for_palindrom(s, start, end):\n",
    "    for i in range(1, (end - start + 1) // 2):\n",
    "        if s[start + i] != s[end - i]:\n",
    "            return False\n",
    "    return True\n",
    "\n",
    "def max_palindrom(s):\n",
    "    max_start = 0\n",
    "    max_end = 0\n",
    "    i = 0\n",
    "    while i < len(s) - (max_end - max_start):\n",
    "        start = s[i]\n",
    "        j = len(s) - 1\n",
    "        while j > i + max_end - max_start:\n",
    "            if start == s[j] and check_slice_for_palindrom(s, i, j):\n",
    "                max_start = i\n",
    "                max_end = j\n",
    "                break\n",
    "            j -= 1\n",
    "        i += 1\n",
    "    return s[max_start:max_end+1]\n",
    "\n",
    "max_palindrom(\"babad\")"
   ]
  },
  {
   "cell_type": "markdown",
   "metadata": {},
   "source": [
    "# Задание 3"
   ]
  },
  {
   "cell_type": "markdown",
   "metadata": {},
   "source": [
    "Вернуть количество отдельных непустых подстрок текста, которые могут быть записаны как конкатенация некоторой строки с самой собой (т.е. она может быть записана, как `a + a`, где `a` - некоторая строка)."
   ]
  },
  {
   "cell_type": "markdown",
   "metadata": {},
   "source": [
    "## Ввод"
   ]
  },
  {
   "cell_type": "markdown",
   "metadata": {},
   "source": [
    "`aabb`"
   ]
  },
  {
   "cell_type": "markdown",
   "metadata": {},
   "source": [
    "## Вывод"
   ]
  },
  {
   "cell_type": "markdown",
   "metadata": {},
   "source": [
    "2"
   ]
  },
  {
   "cell_type": "markdown",
   "metadata": {},
   "source": [
    "## Исполняемый код записывать в ячейку ниже"
   ]
  },
  {
   "cell_type": "code",
   "execution_count": 3,
   "metadata": {},
   "outputs": [
    {
     "data": {
      "text/plain": [
       "2"
      ]
     },
     "execution_count": 3,
     "metadata": {},
     "output_type": "execute_result"
    }
   ],
   "source": [
    "def check_neighbour_slices_equality(s, a, b):\n",
    "    for i in range(1, b - a):\n",
    "        if s[a + i] != s[b + i]:\n",
    "            return False\n",
    "    return True\n",
    "\n",
    "def get_double_strings_count(s):\n",
    "    result = 0\n",
    "    for i in range(len(s) - 1):\n",
    "        start = s[i]\n",
    "        j = i + 1\n",
    "        while j < len(s) - (j - i) + 1:\n",
    "            if s[j] == start and check_neighbour_slices_equality(s, i, j):\n",
    "                result += 1\n",
    "            j += 1\n",
    "    return result\n",
    "\n",
    "get_double_strings_count(\"aabb\")"
   ]
  }
 ],
 "metadata": {
  "kernelspec": {
   "display_name": "Python 3",
   "language": "python",
   "name": "python3"
  },
  "language_info": {
   "codemirror_mode": {
    "name": "ipython",
    "version": 3
   },
   "file_extension": ".py",
   "mimetype": "text/x-python",
   "name": "python",
   "nbconvert_exporter": "python",
   "pygments_lexer": "ipython3",
   "version": "3.8.3"
  }
 },
 "nbformat": 4,
 "nbformat_minor": 5
}
