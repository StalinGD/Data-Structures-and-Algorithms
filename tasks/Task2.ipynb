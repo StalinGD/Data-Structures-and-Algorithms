{
 "cells": [
  {
   "cell_type": "markdown",
   "metadata": {},
   "source": [
    "### Задание №1\n",
    "Массив A состоит из целых положительных чисел длин отрезков. Составьте из трех отрезков такой треугольник, чтобы его периметр был максимально возможным. Если невозможно составить треугольник с положительной площадью функция возвращает 0."
   ]
  },
  {
   "cell_type": "code",
   "execution_count": 1,
   "metadata": {
    "scrolled": false
   },
   "outputs": [
    {
     "data": {
      "text/plain": [
       "(9, 8, 6)"
      ]
     },
     "execution_count": 1,
     "metadata": {},
     "output_type": "execute_result"
    }
   ],
   "source": [
    "def max_triangle(segments):\n",
    "    segments.sort(reverse=True)\n",
    "    \n",
    "    for i in range(len(segments) - 2):\n",
    "        a = segments[i]\n",
    "        b = segments[i + 1]\n",
    "        c = segments[i + 2]\n",
    "        if a < b + c: return (a, b, c)\n",
    "    return 0\n",
    "\n",
    "max_triangle([8, 1, 5, 2, 4, 2, 9, 6, 3, 1])"
   ]
  },
  {
   "cell_type": "markdown",
   "metadata": {},
   "source": [
    "### Задание №2\n",
    "Дан массив неотрицательных целых чисел nums. Расположите их в таком порядке, чтобы вместе они образовали максимально возможное число. Замечание: Результат может быть очень большим числом, поэтому представьте его как string, а не integer."
   ]
  },
  {
   "cell_type": "code",
   "execution_count": 2,
   "metadata": {
    "scrolled": false
   },
   "outputs": [
    {
     "data": {
      "text/plain": [
       "'565111'"
      ]
     },
     "execution_count": 2,
     "metadata": {},
     "output_type": "execute_result"
    }
   ],
   "source": [
    "# поскольку стандартное сравнение работает не так, как нужно здесь (\"5\" < \"51\"),\n",
    "# реализуем сортировку (быструю), которая принимает на вход функцию сравнивания\n",
    "import math\n",
    "def custom_sort(arr, compare, left, right):\n",
    "    if right - left <= 1: return\n",
    "    z = arr[left + (right - left) // 2]\n",
    "    l = left\n",
    "    r = right - 1\n",
    "    while l <= r:\n",
    "        while compare(arr[l], z) < 0: l += 1\n",
    "        while compare(arr[r], z) > 0: r -= 1\n",
    "        if l <= r:\n",
    "            arr[r], arr[l] = arr[l], arr[r]\n",
    "            l += 1\n",
    "            r -= 1\n",
    "    if left < r: custom_sort(arr, compare, left, r + 1)\n",
    "    if l < right: custom_sort(arr, compare, l, right)\n",
    "\n",
    "def max_concat(nums):\n",
    "    # Специальное сравнение двух чисел со следующими свойствами:\n",
    "    # 56 > 5\n",
    "    # 54 < 5\n",
    "    # 9 > 5\n",
    "    # 9 > 59\n",
    "    def compare(a, b):\n",
    "        n_a = math.ceil(math.log(a, 10))\n",
    "        n_b = math.ceil(math.log(b, 10))\n",
    "        d_a = 10 ** (n_a - 1)\n",
    "        d_b = 10 ** (n_b - 1)\n",
    "        n = min(n_a, n_b)\n",
    "        for i in range(n):\n",
    "            digit_a = a // d_a\n",
    "            digit_b = b // d_b\n",
    "            if digit_a > digit_b: return 1\n",
    "            if digit_a < digit_b: return -1\n",
    "            d_a //= 10\n",
    "            d_b //= 10\n",
    "        if n_a == n_b: return 0\n",
    "        if n_a < n_b:\n",
    "            digit_a = a % 10\n",
    "            digit_b = (b % (d_b * 10)) // d_b\n",
    "            if digit_a > digit_b: return 1\n",
    "            if digit_a < digit_b: return -1\n",
    "            return 0\n",
    "        if n_a > n_b:\n",
    "            digit_a = (a % (d_a * 10)) // d_a\n",
    "            digit_b = b % 10\n",
    "            if digit_a > digit_b: return 1\n",
    "            if digit_a < digit_b: return -1\n",
    "            return 0\n",
    "        \n",
    "    custom_sort(nums, lambda a, b: -compare(a, b), 0, len(nums))\n",
    "    return ''.join([str(num) for num in nums])\n",
    "\n",
    "max_concat([111, 5, 56])"
   ]
  },
  {
   "cell_type": "markdown",
   "metadata": {},
   "source": [
    "### Задание №3\n",
    "Дана матрица mat размером m * n, значения целочисленные. Напишите функцию, сортирующую каждую диагональ матрицы по возрастанию и возвращающую получившуюся матрицу."
   ]
  },
  {
   "cell_type": "code",
   "execution_count": 3,
   "metadata": {
    "scrolled": false
   },
   "outputs": [
    {
     "name": "stdout",
     "output_type": "stream",
     "text": [
      "--- Before sort ---\n",
      "4 3 7\n",
      "9 1 6\n",
      "7 5 2\n",
      "--- After sort ----\n",
      "2 3 7\n",
      "9 4 6\n",
      "1 5 7\n"
     ]
    }
   ],
   "source": [
    "def getter_setter_sort(get_item, set_item, left, right):\n",
    "    if right - left <= 1: return\n",
    "    z = get_item(left + (right - left) // 2)\n",
    "    l = left\n",
    "    r = right - 1\n",
    "    while l <= r:\n",
    "        while get_item(l) < z: l += 1\n",
    "        while get_item(r) > z: r -= 1\n",
    "        if l <= r:\n",
    "            item_l = get_item(l)\n",
    "            item_r = get_item(r)\n",
    "            set_item(l, item_r)\n",
    "            set_item(r, item_l)\n",
    "            l += 1\n",
    "            r -= 1\n",
    "    if left < r: getter_setter_sort(get_item, set_item, left, r + 1)\n",
    "    if l < right: getter_setter_sort(get_item, set_item, l, right)\n",
    "        \n",
    "def diagonal_sort(mat, m, n):\n",
    "    s = min(m, n)\n",
    "    \n",
    "    def set_main_diagonal(i, v):\n",
    "        mat[i][i] = v\n",
    "    def set_sub_diagonal(i, v):\n",
    "        mat[s - i - 1][i] = v\n",
    "    \n",
    "    getter_setter_sort(lambda i: mat[s - i - 1][i], set_sub_diagonal, 0, s)\n",
    "    getter_setter_sort(lambda i: mat[i][i], set_main_diagonal, 0, s)\n",
    "\n",
    "def print_matrix(mat):\n",
    "    for row in mat:\n",
    "        print(' '.join(map(str,row)))\n",
    "\n",
    "m, n = 3, 3\n",
    "mat = [\n",
    "        [4, 3, 7], \n",
    "        [9, 1, 6],\n",
    "        [7, 5, 2]\n",
    "      ]\n",
    "\n",
    "print(\"--- Before sort ---\")\n",
    "print_matrix(mat)\n",
    "\n",
    "diagonal_sort(mat, m, n)\n",
    "\n",
    "print(\"--- After sort ----\")\n",
    "print_matrix(mat)"
   ]
  }
 ],
 "metadata": {
  "kernelspec": {
   "display_name": "Python 3",
   "language": "python",
   "name": "python3"
  },
  "language_info": {
   "codemirror_mode": {
    "name": "ipython",
    "version": 3
   },
   "file_extension": ".py",
   "mimetype": "text/x-python",
   "name": "python",
   "nbconvert_exporter": "python",
   "pygments_lexer": "ipython3",
   "version": "3.8.3"
  }
 },
 "nbformat": 4,
 "nbformat_minor": 5
}
