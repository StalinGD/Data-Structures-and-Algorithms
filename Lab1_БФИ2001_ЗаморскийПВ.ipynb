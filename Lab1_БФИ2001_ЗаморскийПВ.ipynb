{
 "cells": [
  {
   "cell_type": "markdown",
   "metadata": {},
   "source": [
    "# Лабораторная работа №1\n",
    "## Выполнил студент группы БФИ2001 Заморский Пётр Владимирович\n",
    "### Задание №1\n",
    "Вывести \"Hello, World\"!"
   ]
  },
  {
   "cell_type": "code",
   "execution_count": 1,
   "metadata": {},
   "outputs": [
    {
     "name": "stdout",
     "output_type": "stream",
     "text": [
      "Hello, World!\n"
     ]
    }
   ],
   "source": [
    "print(\"Hello, World!\")"
   ]
  },
  {
   "cell_type": "markdown",
   "metadata": {},
   "source": [
    "### Задание №2\n",
    "Написать генератор случайных матриц(многомерных), который принимает\n",
    "опциональные параметры m, n, min_limit, max_limit, где m и n указывают размер\n",
    "матрицы, а min_lim и max_lim - минимальное и максимальное значение для\n",
    "генерируемого числа."
   ]
  },
  {
   "cell_type": "code",
   "execution_count": 2,
   "metadata": {},
   "outputs": [],
   "source": [
    "import random\n",
    "\n",
    "def random_array(m=50, n=50, min_limit=-250, max_limit=1007):\n",
    "    arr = []\n",
    "    for x in range(m):\n",
    "        row = []\n",
    "        for y in range(n):\n",
    "            row.append(random.randrange(min_limit, max_limit + 1))\n",
    "        arr.append(row)\n",
    "    return arr"
   ]
  },
  {
   "cell_type": "code",
   "execution_count": 3,
   "metadata": {},
   "outputs": [
    {
     "name": "stdout",
     "output_type": "stream",
     "text": [
      "[[434, 599], [870, 69], [-14, 749], [48, 302], [502, -27]]\n"
     ]
    }
   ],
   "source": [
    "print(random_array(5, 2))"
   ]
  },
  {
   "cell_type": "markdown",
   "metadata": {},
   "source": [
    "### Задание №3\n",
    "Реализовать методы сортировки строк числовой матрицы в соответствии с\n",
    "заданием. Оценить время работы каждого алгоритма сортировки и сравнить его со\n",
    "временем стандартной функции сортировки. Испытания проводить на сгенерированных\n",
    "матрицах."
   ]
  },
  {
   "cell_type": "code",
   "execution_count": 74,
   "metadata": {},
   "outputs": [],
   "source": [
    "source_arr = random_array(10000, 1)"
   ]
  },
  {
   "cell_type": "code",
   "execution_count": 67,
   "metadata": {},
   "outputs": [
    {
     "name": "stdout",
     "output_type": "stream",
     "text": [
      "Wall time: 5.25 ms\n"
     ]
    }
   ],
   "source": [
    "%%time\n",
    "arr = source_arr.copy()\n",
    "arr.sort()"
   ]
  },
  {
   "cell_type": "code",
   "execution_count": 6,
   "metadata": {},
   "outputs": [],
   "source": [
    "# Выбором\n",
    "def selection_sort(arr):\n",
    "    for i in range(len(arr)):\n",
    "        minV = arr[i]\n",
    "        minI = i\n",
    "        for j in range(i + 1, len(arr)):\n",
    "            if (arr[j] < minV): \n",
    "                minV = arr[j]\n",
    "                minI = j\n",
    "                \n",
    "        t = arr[i]\n",
    "        arr[i] = arr[minI]\n",
    "        arr[minI] = t"
   ]
  },
  {
   "cell_type": "code",
   "execution_count": 7,
   "metadata": {},
   "outputs": [
    {
     "name": "stdout",
     "output_type": "stream",
     "text": [
      "Wall time: 4.85 s\n"
     ]
    }
   ],
   "source": [
    "%%time\n",
    "arr = source_arr.copy()\n",
    "selection_sort(arr)"
   ]
  },
  {
   "cell_type": "code",
   "execution_count": 8,
   "metadata": {},
   "outputs": [],
   "source": [
    "# Вставками\n",
    "def insertion_sort(arr):\n",
    "    for i in range(1, len(arr)):\n",
    "        j = i\n",
    "        while j > 1 and arr[j - 1] > arr[j]:\n",
    "            t = arr[j]\n",
    "            arr[j] = arr[j - 1]\n",
    "            j -= 1"
   ]
  },
  {
   "cell_type": "code",
   "execution_count": 9,
   "metadata": {},
   "outputs": [
    {
     "name": "stdout",
     "output_type": "stream",
     "text": [
      "Wall time: 4.57 s\n"
     ]
    }
   ],
   "source": [
    "%%time\n",
    "arr = source_arr.copy()\n",
    "selection_sort(arr)"
   ]
  },
  {
   "cell_type": "code",
   "execution_count": 10,
   "metadata": {},
   "outputs": [],
   "source": [
    "# Обменом (пузырьком)\n",
    "def exchange_sort(arr):\n",
    "    f = True\n",
    "    r = len(arr)\n",
    "    while f:\n",
    "        f = False\n",
    "        for i in range(r - 1):\n",
    "            if arr[i] > arr[i + 1]:\n",
    "                arr[i], arr[i + 1] = arr[i + 1], arr[i]\n",
    "                f = True\n",
    "        r -= 1"
   ]
  },
  {
   "cell_type": "code",
   "execution_count": 11,
   "metadata": {},
   "outputs": [
    {
     "name": "stdout",
     "output_type": "stream",
     "text": [
      "Wall time: 13 s\n"
     ]
    }
   ],
   "source": [
    "%%time\n",
    "arr = source_arr.copy()\n",
    "exchange_sort(arr)"
   ]
  },
  {
   "cell_type": "code",
   "execution_count": 12,
   "metadata": {},
   "outputs": [],
   "source": [
    "# Шелла\n",
    "def shell_sort(arr):\n",
    "    step = len(arr) // 2\n",
    "    while step >= 1:\n",
    "        for i in range(step, len(arr)):\n",
    "            j = i\n",
    "            diff = j - step\n",
    "            while diff >= 0 and arr[diff] > arr[j]:\n",
    "                arr[diff], arr[j] = arr[j], arr[diff]\n",
    "                j = diff\n",
    "                diff = j - step\n",
    "        step //= 2"
   ]
  },
  {
   "cell_type": "code",
   "execution_count": 13,
   "metadata": {},
   "outputs": [
    {
     "name": "stdout",
     "output_type": "stream",
     "text": [
      "Wall time: 69 ms\n"
     ]
    }
   ],
   "source": [
    "%%time\n",
    "arr = source_arr.copy()\n",
    "shell_sort(arr)"
   ]
  },
  {
   "cell_type": "code",
   "execution_count": 35,
   "metadata": {},
   "outputs": [],
   "source": [
    "# Турнирная\n",
    "import heapq\n",
    "\n",
    "def tournament_sort(arr):\n",
    "    size = len(arr)\n",
    "    max_size = 16\n",
    "    h = []\n",
    "    \n",
    "    while len(h) < max_size and len(arr) > 0:\n",
    "        heapq.heappush(h, arr.pop(0))\n",
    "    \n",
    "    winners = []\n",
    "    losers = []\n",
    "    \n",
    "    while len(arr) > 0:\n",
    "        if len(winners) == 0:\n",
    "            winners.append(heapq.heappop(h))\n",
    "        if arr[0] > winners[-1]:\n",
    "            heapq.heappush(h, arr.pop(0))\n",
    "        else:\n",
    "            losers.append(arr.pop(0))\n",
    "        \n",
    "        if len(h) > 0:\n",
    "            winners.append(heapq.heappop(h))\n",
    "    \n",
    "    while len(h) > 0:\n",
    "        winners.append(heapq.heappop(h)) \n",
    "        \n",
    "    if len(losers) == 0:\n",
    "        return winners\n",
    "    \n",
    "    losers = tournament_sort(losers)\n",
    "    \n",
    "    def merge(array_a, array_b, result):\n",
    "        a = 0\n",
    "        b = 0\n",
    "        r = 0\n",
    "        while a < len(array_a) and b < len(array_b):\n",
    "            if array_a[a] < array_b[b]:\n",
    "                result[r] = array_a[a]\n",
    "                a += 1\n",
    "            else:\n",
    "                result[r] = array_b[b]\n",
    "                b += 1\n",
    "            r += 1\n",
    "        while a < len(array_a):\n",
    "            result[r] = array_a[a]\n",
    "            a += 1\n",
    "            r += 1\n",
    "        while b < len(array_b):\n",
    "            result[r] = array_b[b]\n",
    "            b += 1\n",
    "            r += 1\n",
    "    \n",
    "    arr = list(range(size))\n",
    "    merge(losers, winners, arr)\n",
    "    return arr;\n"
   ]
  },
  {
   "cell_type": "code",
   "execution_count": 38,
   "metadata": {},
   "outputs": [
    {
     "name": "stdout",
     "output_type": "stream",
     "text": [
      "Wall time: 980 ms\n"
     ]
    }
   ],
   "source": [
    "%%time\n",
    "arr = source_arr.copy()\n",
    "arr = tournament_sort(arr)"
   ]
  },
  {
   "cell_type": "code",
   "execution_count": 68,
   "metadata": {},
   "outputs": [],
   "source": [
    "# Быстрая сортировка\n",
    "def quick_sort(arr, left, right):\n",
    "    if right - left <= 1: return\n",
    "    z = arr[left + (right - left) // 2]\n",
    "    l = left\n",
    "    r = right - 1\n",
    "    while l <= r:\n",
    "        while arr[l] < z: l += 1\n",
    "        while arr[r] > z: r -= 1\n",
    "        if l <= r:\n",
    "            arr[r], arr[l] = arr[l], arr[r]\n",
    "            l += 1\n",
    "            r -= 1\n",
    "    if left < r: quick_sort(arr, left, r + 1)\n",
    "    if l < right: quick_sort(arr, l, right)"
   ]
  },
  {
   "cell_type": "code",
   "execution_count": 76,
   "metadata": {
    "scrolled": true
   },
   "outputs": [
    {
     "name": "stdout",
     "output_type": "stream",
     "text": [
      "Wall time: 35.3 ms\n"
     ]
    }
   ],
   "source": [
    "%%time\n",
    "arr = source_arr.copy()\n",
    "quick_sort(arr, 0, len(arr))"
   ]
  },
  {
   "cell_type": "code",
   "execution_count": 78,
   "metadata": {},
   "outputs": [],
   "source": [
    "# Пирамидальная (heap sort)\n",
    "import heapq\n",
    "def heap_sort(arr):\n",
    "    h = []\n",
    "    for i in range(len(arr)):\n",
    "        heapq.heappush(h, arr[i])\n",
    "    for i in range(len(arr)):\n",
    "        arr[i] = heapq.heappop(h)"
   ]
  },
  {
   "cell_type": "code",
   "execution_count": 79,
   "metadata": {
    "scrolled": true
   },
   "outputs": [
    {
     "name": "stdout",
     "output_type": "stream",
     "text": [
      "Wall time: 12.8 ms\n"
     ]
    }
   ],
   "source": [
    "%%time\n",
    "arr = source_arr.copy()\n",
    "heap_sort(arr)"
   ]
  },
  {
   "cell_type": "code",
   "execution_count": null,
   "metadata": {},
   "outputs": [],
   "source": []
  }
 ],
 "metadata": {
  "kernelspec": {
   "display_name": "Python 3",
   "language": "python",
   "name": "python3"
  },
  "language_info": {
   "codemirror_mode": {
    "name": "ipython",
    "version": 3
   },
   "file_extension": ".py",
   "mimetype": "text/x-python",
   "name": "python",
   "nbconvert_exporter": "python",
   "pygments_lexer": "ipython3",
   "version": "3.8.3"
  }
 },
 "nbformat": 4,
 "nbformat_minor": 4
}
