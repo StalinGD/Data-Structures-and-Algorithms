{
 "cells": [
  {
   "cell_type": "markdown",
   "metadata": {},
   "source": [
    "# Лабораторная работа №1\n",
    "## Выполнил студент группы БФИ2001 Заморский Пётр Владимирович\n",
    "### Задание №1\n",
    "Вывести \"Hello, World\"!"
   ]
  },
  {
   "cell_type": "code",
   "execution_count": 1,
   "metadata": {},
   "outputs": [
    {
     "name": "stdout",
     "output_type": "stream",
     "text": [
      "Hello, World!\n"
     ]
    }
   ],
   "source": [
    "print(\"Hello, World!\")"
   ]
  },
  {
   "cell_type": "markdown",
   "metadata": {},
   "source": [
    "### Задание №2\n",
    "Написать генератор случайных матриц(многомерных), который принимает\n",
    "опциональные параметры m, n, min_limit, max_limit, где m и n указывают размер\n",
    "матрицы, а min_lim и max_lim - минимальное и максимальное значение для\n",
    "генерируемого числа."
   ]
  },
  {
   "cell_type": "code",
   "execution_count": 2,
   "metadata": {},
   "outputs": [],
   "source": [
    "import random\n",
    "\n",
    "def random_array(m=50, n=50, min_limit=-250, max_limit=1007):\n",
    "    arr = []\n",
    "    for x in range(m):\n",
    "        row = []\n",
    "        for y in range(n):\n",
    "            row.append(random.randrange(min_limit, max_limit + 1))\n",
    "        arr.append(row)\n",
    "    return arr"
   ]
  },
  {
   "cell_type": "code",
   "execution_count": 3,
   "metadata": {},
   "outputs": [
    {
     "name": "stdout",
     "output_type": "stream",
     "text": [
      "[[-28, 492], [212, -140], [586, 422], [874, 964], [366, 542]]\n"
     ]
    }
   ],
   "source": [
    "print(random_array(5, 2))"
   ]
  },
  {
   "cell_type": "markdown",
   "metadata": {},
   "source": [
    "### Задание №3\n",
    "Реализовать методы сортировки строк числовой матрицы в соответствии с\n",
    "заданием. Оценить время работы каждого алгоритма сортировки и сравнить его со\n",
    "временем стандартной функции сортировки. Испытания проводить на сгенерированных\n",
    "матрицах."
   ]
  },
  {
   "cell_type": "code",
   "execution_count": 4,
   "metadata": {},
   "outputs": [],
   "source": [
    "# Класс, реализующий преоритетную очередь-кучу\n",
    "class PriorityQueue:\n",
    "    def __init__(self):\n",
    "        self.heap = []\n",
    "        \n",
    "    @property\n",
    "    def size(self):\n",
    "        return len(self.heap)\n",
    "        \n",
    "    def get_right_child(self, index):\n",
    "        if 2 * index < self.size and index >= 0:\n",
    "            return 2 * index + 1\n",
    "        return -1\n",
    "\n",
    "    def get_left_child(self, index):\n",
    "        if 2 * index < self.size + 1 and index >= 0:\n",
    "            return 2 * index + 2\n",
    "        return -1\n",
    "\n",
    "    def get_parent(self, index):\n",
    "        if index > 0 and index - 1 < self.size:\n",
    "            return index // 2\n",
    "        return -1\n",
    "    \n",
    "    def swap(self, a, b):\n",
    "        self.heap[a], self.heap[b] = self.heap[b], self.heap[a]\n",
    "\n",
    "    def heapify(self, index):\n",
    "        l = 2 * index + 1\n",
    "        r = l + 1\n",
    "\n",
    "        smallest = index\n",
    "\n",
    "        if l < self.size and l >= 0:\n",
    "            if self.heap[l] < self.heap[smallest]:\n",
    "                smallest = l\n",
    "\n",
    "        if r < self.size and r >= 0:\n",
    "            if self.heap[r] < self.heap[smallest]:\n",
    "                smallest = r\n",
    "\n",
    "        if smallest != index:\n",
    "            self.swap(index, smallest)\n",
    "            self.heapify(smallest)\n",
    "\n",
    "    def pop(self):\n",
    "        last = self.heap.pop()\n",
    "        \n",
    "        if self.size > 0:\n",
    "            min = self.heap[0]\n",
    "            self.heap[0] = last\n",
    "            self.heapify(0)\n",
    "            return min\n",
    "        else:\n",
    "            return last\n",
    "\n",
    "    def decrease(self, index, item):\n",
    "        heap = self.heap\n",
    "        \n",
    "        while index > 0:\n",
    "            parent_index = (index - 1) >> 1\n",
    "            parent = heap[parent_index]\n",
    "            if parent > item:\n",
    "                heap[index] = parent\n",
    "                index = parent_index\n",
    "            else: break\n",
    "        heap[index] = item\n",
    "\n",
    "    def push(self, item):\n",
    "        self.heap.append(item)\n",
    "        self.decrease(self.size - 1, item)"
   ]
  },
  {
   "cell_type": "code",
   "execution_count": 5,
   "metadata": {},
   "outputs": [],
   "source": [
    "# Выбором\n",
    "def selection_sort(arr):\n",
    "    for i in range(len(arr)):\n",
    "        minV = arr[i]\n",
    "        minI = i\n",
    "        for j in range(i + 1, len(arr)):\n",
    "            if (arr[j] < minV): \n",
    "                minV = arr[j]\n",
    "                minI = j\n",
    "                \n",
    "        t = arr[i]\n",
    "        arr[i] = arr[minI]\n",
    "        arr[minI] = t"
   ]
  },
  {
   "cell_type": "code",
   "execution_count": 6,
   "metadata": {},
   "outputs": [],
   "source": [
    "# Вставками\n",
    "def insertion_sort(arr):\n",
    "    for i in range(1, len(arr)):\n",
    "        j = i\n",
    "        while j > 1 and arr[j - 1] > arr[j]:\n",
    "            arr[j], arr[j - 1] = arr[j - 1], arr[j]\n",
    "            j -= 1"
   ]
  },
  {
   "cell_type": "code",
   "execution_count": 7,
   "metadata": {},
   "outputs": [],
   "source": [
    "# Обменом (пузырьком)\n",
    "def exchange_sort(arr):\n",
    "    f = True\n",
    "    r = len(arr)\n",
    "    while f:\n",
    "        f = False\n",
    "        for i in range(r - 1):\n",
    "            if arr[i] > arr[i + 1]:\n",
    "                arr[i], arr[i + 1] = arr[i + 1], arr[i]\n",
    "                f = True\n",
    "        r -= 1"
   ]
  },
  {
   "cell_type": "code",
   "execution_count": 8,
   "metadata": {},
   "outputs": [],
   "source": [
    "# Шелла\n",
    "def shell_sort(arr):\n",
    "    step = len(arr) // 2\n",
    "    while step >= 1:\n",
    "        for i in range(step, len(arr)):\n",
    "            j = i\n",
    "            diff = j - step\n",
    "            while diff >= 0 and arr[diff] > arr[j]:\n",
    "                arr[diff], arr[j] = arr[j], arr[diff]\n",
    "                j = diff\n",
    "                diff = j - step\n",
    "        step //= 2"
   ]
  },
  {
   "cell_type": "code",
   "execution_count": 9,
   "metadata": {},
   "outputs": [],
   "source": [
    "# Турнирная\n",
    "def tournament_sort(arr):\n",
    "    size = len(arr)\n",
    "    max_size = 16\n",
    "    pq = PriorityQueue()\n",
    "    \n",
    "    while pq.size < max_size and len(arr) > 0:\n",
    "        pq.push(arr.pop(0))\n",
    "    \n",
    "    winners = []\n",
    "    losers = []\n",
    "    \n",
    "    while len(arr) > 0:\n",
    "        if len(winners) == 0:\n",
    "            winners.append(pq.pop())\n",
    "        if arr[0] > winners[-1]:\n",
    "            pq.push(arr.pop(0))\n",
    "        else:\n",
    "            losers.append(arr.pop(0))\n",
    "        \n",
    "        if pq.size > 0:\n",
    "            winners.append(pq.pop())\n",
    "    \n",
    "    while pq.size > 0:\n",
    "        winners.append(pq.pop()) \n",
    "        \n",
    "    if len(losers) == 0:\n",
    "        return winners\n",
    "    \n",
    "    losers = tournament_sort(losers)\n",
    "    \n",
    "    def merge(array_a, array_b, result):\n",
    "        a = 0\n",
    "        b = 0\n",
    "        r = 0\n",
    "        while a < len(array_a) and b < len(array_b):\n",
    "            if array_a[a] < array_b[b]:\n",
    "                result[r] = array_a[a]\n",
    "                a += 1\n",
    "            else:\n",
    "                result[r] = array_b[b]\n",
    "                b += 1\n",
    "            r += 1\n",
    "        while a < len(array_a):\n",
    "            result[r] = array_a[a]\n",
    "            a += 1\n",
    "            r += 1\n",
    "        while b < len(array_b):\n",
    "            result[r] = array_b[b]\n",
    "            b += 1\n",
    "            r += 1\n",
    "    \n",
    "    arr = list(range(size))\n",
    "    merge(losers, winners, arr)\n",
    "    return arr;\n"
   ]
  },
  {
   "cell_type": "code",
   "execution_count": 10,
   "metadata": {},
   "outputs": [],
   "source": [
    "# Быстрая сортировка\n",
    "def quick_sort(arr, left, right):\n",
    "    if right - left <= 1: return\n",
    "    z = arr[left + (right - left) // 2]\n",
    "    l = left\n",
    "    r = right - 1\n",
    "    while l <= r:\n",
    "        while arr[l] < z: l += 1\n",
    "        while arr[r] > z: r -= 1\n",
    "        if l <= r:\n",
    "            arr[r], arr[l] = arr[l], arr[r]\n",
    "            l += 1\n",
    "            r -= 1\n",
    "    if left < r: quick_sort(arr, left, r + 1)\n",
    "    if l < right: quick_sort(arr, l, right)"
   ]
  },
  {
   "cell_type": "code",
   "execution_count": 11,
   "metadata": {},
   "outputs": [],
   "source": [
    "# Пирамидальная (heap sort)\n",
    "def heap_sort(arr):\n",
    "    pq = PriorityQueue()\n",
    "    for i in range(len(arr)):\n",
    "        pq.push(arr[i])\n",
    "    for i in range(len(arr)):\n",
    "        arr[i] = pq.pop()"
   ]
  },
  {
   "cell_type": "markdown",
   "metadata": {},
   "source": [
    "### Тестирование"
   ]
  },
  {
   "cell_type": "code",
   "execution_count": 12,
   "metadata": {
    "scrolled": true
   },
   "outputs": [],
   "source": [
    "source_arr = random_array(10000, 1)"
   ]
  },
  {
   "cell_type": "code",
   "execution_count": 13,
   "metadata": {},
   "outputs": [
    {
     "name": "stdout",
     "output_type": "stream",
     "text": [
      "Wall time: 6 ms\n"
     ]
    }
   ],
   "source": [
    "%%time\n",
    "arr = source_arr.copy()\n",
    "arr.sort()"
   ]
  },
  {
   "cell_type": "code",
   "execution_count": 14,
   "metadata": {},
   "outputs": [
    {
     "name": "stdout",
     "output_type": "stream",
     "text": [
      "Wall time: 3.94 s\n"
     ]
    }
   ],
   "source": [
    "%%time\n",
    "arr = source_arr.copy()\n",
    "selection_sort(arr)"
   ]
  },
  {
   "cell_type": "code",
   "execution_count": 15,
   "metadata": {},
   "outputs": [
    {
     "name": "stdout",
     "output_type": "stream",
     "text": [
      "Wall time: 9.36 s\n"
     ]
    }
   ],
   "source": [
    "%%time\n",
    "arr = source_arr.copy()\n",
    "insertion_sort(arr)"
   ]
  },
  {
   "cell_type": "code",
   "execution_count": 16,
   "metadata": {},
   "outputs": [
    {
     "name": "stdout",
     "output_type": "stream",
     "text": [
      "Wall time: 10.6 s\n"
     ]
    }
   ],
   "source": [
    "%%time\n",
    "arr = source_arr.copy()\n",
    "exchange_sort(arr)"
   ]
  },
  {
   "cell_type": "code",
   "execution_count": 17,
   "metadata": {
    "scrolled": true
   },
   "outputs": [
    {
     "name": "stdout",
     "output_type": "stream",
     "text": [
      "Wall time: 67.5 ms\n"
     ]
    }
   ],
   "source": [
    "%%time\n",
    "arr = source_arr.copy()\n",
    "shell_sort(arr)"
   ]
  },
  {
   "cell_type": "code",
   "execution_count": 18,
   "metadata": {},
   "outputs": [
    {
     "name": "stdout",
     "output_type": "stream",
     "text": [
      "Wall time: 1.09 s\n"
     ]
    }
   ],
   "source": [
    "%%time\n",
    "arr = source_arr.copy()\n",
    "arr = tournament_sort(arr)"
   ]
  },
  {
   "cell_type": "code",
   "execution_count": 19,
   "metadata": {
    "scrolled": true
   },
   "outputs": [
    {
     "name": "stdout",
     "output_type": "stream",
     "text": [
      "Wall time: 37.3 ms\n"
     ]
    }
   ],
   "source": [
    "%%time\n",
    "arr = source_arr.copy()\n",
    "quick_sort(arr, 0, len(arr))"
   ]
  },
  {
   "cell_type": "code",
   "execution_count": 20,
   "metadata": {
    "scrolled": true
   },
   "outputs": [
    {
     "name": "stdout",
     "output_type": "stream",
     "text": [
      "Wall time: 151 ms\n"
     ]
    }
   ],
   "source": [
    "%%time\n",
    "arr = source_arr.copy()\n",
    "heap_sort(arr)"
   ]
  }
 ],
 "metadata": {
  "kernelspec": {
   "display_name": "Python 3",
   "language": "python",
   "name": "python3"
  },
  "language_info": {
   "codemirror_mode": {
    "name": "ipython",
    "version": 3
   },
   "file_extension": ".py",
   "mimetype": "text/x-python",
   "name": "python",
   "nbconvert_exporter": "python",
   "pygments_lexer": "ipython3",
   "version": "3.8.3"
  }
 },
 "nbformat": 4,
 "nbformat_minor": 4
}
