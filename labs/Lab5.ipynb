{
 "cells": [
  {
   "cell_type": "markdown",
   "metadata": {
    "id": "WPvB9TcMmKA6"
   },
   "source": [
    "# Лабораторная работа №5\n",
    "# Рекурсия. Фракталы."
   ]
  },
  {
   "cell_type": "markdown",
   "metadata": {
    "id": "96Gi_LEvmSVH"
   },
   "source": [
    "## Выполнил студент группы БФИ2001 Заморский Пётр Владимирович\n",
    "***"
   ]
  },
  {
   "cell_type": "markdown",
   "metadata": {
    "id": "4clYOyb0mbEv"
   },
   "source": [
    "### Задание:\n",
    "Реализовать генерацию заданного типа фрактала с применением рекурсивных функций.\n",
    "\n",
    "\n",
    "Добавить возможность задания глубины фрактала. \n",
    "\n",
    "\n",
    "Оценить глубину рекурсии. \n",
    "\n",
    "\n",
    "Построить таблицу зависимости времени построения от глубины фрактала."
   ]
  },
  {
   "cell_type": "markdown",
   "metadata": {
    "id": "wDXHbUmMmhRL"
   },
   "source": [
    "### Список фракталов:\n",
    "\n",
    "Кривая Коха\n",
    "| Кривая Гильберта\n",
    "| Кривая Серпинского\n",
    "| Салфетка Серпинского\n",
    "| Ковер Серпинского\n",
    "| Дерево Пифагора "
   ]
  },
  {
   "cell_type": "markdown",
   "metadata": {
    "id": "Wggfn8l7nG72"
   },
   "source": [
    "### Выполнение:"
   ]
  },
  {
   "cell_type": "code",
   "execution_count": 1,
   "metadata": {},
   "outputs": [],
   "source": [
    "import turtle\n",
    "import datetime\n",
    "import math\n",
    "\n",
    "def benchmark_fractal(func, max_n, doneTurtle = False, step = 200):\n",
    "    turtle.speed(10000000)\n",
    "    for i in range(1, max_n + 1):\n",
    "        turtle.reset()\n",
    "        turtle.speed(10000000)\n",
    "        start_time = datetime.datetime.now()\n",
    "        func(step, i)\n",
    "        total_time = (datetime.datetime.now() - start_time).total_seconds()\n",
    "        print(f\"Depth: {i} - {round(total_time, 1)}s\")\n",
    "    if doneTurtle: turtle.done()"
   ]
  },
  {
   "cell_type": "code",
   "execution_count": 2,
   "metadata": {
    "id": "681a95mZnOSa"
   },
   "outputs": [
    {
     "name": "stdout",
     "output_type": "stream",
     "text": [
      "Depth: 1 - 0.1s\n",
      "Depth: 2 - 0.5s\n",
      "Depth: 3 - 2.0s\n",
      "Depth: 4 - 8.0s\n",
      "Depth: 5 - 32.0s\n"
     ]
    }
   ],
   "source": [
    "# Кривая Коха\n",
    "def koch_fractal(step, n):\n",
    "    if n == 0: \n",
    "        turtle.forward(step)\n",
    "        return\n",
    "    \n",
    "    def call_next(): \n",
    "        koch_fractal(step / 3, n - 1)\n",
    "   \n",
    "    call_next()\n",
    "    turtle.left(60)\n",
    "    call_next()\n",
    "    turtle.right(120)\n",
    "    call_next()\n",
    "    turtle.left(60)\n",
    "    call_next()    \n",
    "\n",
    "benchmark_fractal(koch_fractal, 5)"
   ]
  },
  {
   "cell_type": "code",
   "execution_count": 3,
   "metadata": {},
   "outputs": [
    {
     "name": "stdout",
     "output_type": "stream",
     "text": [
      "Depth: 1 - 0.1s\n",
      "Depth: 2 - 0.6s\n",
      "Depth: 3 - 2.3s\n",
      "Depth: 4 - 9.3s\n",
      "Depth: 5 - 37.4s\n"
     ]
    }
   ],
   "source": [
    "# Кривая Гильберта\n",
    "def hilbert_fractal(step, n, dir = 1):\n",
    "    if n == 0: return\n",
    "    turtle.left(90 * dir)\n",
    "    hilbert_fractal(step, n - 1, -dir)\n",
    "    turtle.forward(step)\n",
    "    turtle.right(90 * dir)\n",
    "    hilbert_fractal(step, n - 1, dir)\n",
    "    turtle.forward(step)\n",
    "    hilbert_fractal(step, n - 1, dir)\n",
    "    turtle.right(90 * dir)\n",
    "    turtle.forward(step)\n",
    "    hilbert_fractal(step, n - 1, -dir)\n",
    "    turtle.left(90 * dir)\n",
    "\n",
    "benchmark_fractal(hilbert_fractal, 5, step=20)"
   ]
  },
  {
   "cell_type": "code",
   "execution_count": 4,
   "metadata": {},
   "outputs": [
    {
     "name": "stdout",
     "output_type": "stream",
     "text": [
      "Depth: 1 - 0.5s\n",
      "Depth: 2 - 2.0s\n",
      "Depth: 3 - 8.0s\n",
      "Depth: 4 - 32.1s\n"
     ]
    }
   ],
   "source": [
    "# Кривая Серпинского\n",
    "sqrt2 = math.sqrt(2)\n",
    "def sierpinski_half_fractal(step, n):\n",
    "    if n == 0: \n",
    "        turtle.forward(step)\n",
    "        return\n",
    "    sierpinski_half_fractal(step, n - 1)\n",
    "    turtle.left(45)\n",
    "    turtle.forward(step * sqrt2)\n",
    "    turtle.left(45)\n",
    "    sierpinski_half_fractal(step, n - 1)\n",
    "    turtle.right(90)\n",
    "    turtle.forward(step)\n",
    "    turtle.right(90)\n",
    "    sierpinski_half_fractal(step, n - 1)\n",
    "    turtle.left(45)\n",
    "    turtle.forward(step * sqrt2)\n",
    "    turtle.left(45)\n",
    "    sierpinski_half_fractal(step, n - 1)\n",
    "\n",
    "def sierpinski_fractal(step, n):\n",
    "    turtle.right(45)\n",
    "    sierpinski_half_fractal(step, n)\n",
    "    turtle.right(90)\n",
    "    turtle.forward(step)\n",
    "    turtle.right(90)\n",
    "    sierpinski_half_fractal(step, n)\n",
    "    turtle.right(90)\n",
    "    turtle.forward(step)\n",
    "    turtle.right(90)\n",
    "\n",
    "benchmark_fractal(sierpinski_fractal, 4, step=10)"
   ]
  },
  {
   "cell_type": "code",
   "execution_count": 5,
   "metadata": {},
   "outputs": [
    {
     "name": "stdout",
     "output_type": "stream",
     "text": [
      "Depth: 1 - 0.2s\n",
      "Depth: 2 - 0.3s\n",
      "Depth: 3 - 0.8s\n",
      "Depth: 4 - 2.2s\n",
      "Depth: 5 - 6.4s\n",
      "Depth: 6 - 19.0s\n"
     ]
    }
   ],
   "source": [
    "# Салфетка Серпинского\n",
    "def sierpinski_triangle_fractal(step, n, dir = 1):\n",
    "    if n == 0: return\n",
    "    turtle.right(120)\n",
    "    turtle.forward(step)\n",
    "    sierpinski_triangle_fractal(step / 2, n - 1, -1)\n",
    "    turtle.forward(step)\n",
    "    turtle.right(120 * dir)\n",
    "    turtle.forward(step)\n",
    "    if dir < 0: sierpinski_triangle_fractal(step / 2, n - 1, -1)\n",
    "    turtle.forward(step)\n",
    "    turtle.right(120 * dir)\n",
    "    turtle.forward(step)\n",
    "    if dir < 0: sierpinski_triangle_fractal(step / 2, n - 1, -1)\n",
    "    turtle.forward(step)\n",
    "    turtle.right(120)\n",
    "    \n",
    "benchmark_fractal(sierpinski_triangle_fractal, 6)"
   ]
  },
  {
   "cell_type": "code",
   "execution_count": 6,
   "metadata": {},
   "outputs": [
    {
     "name": "stdout",
     "output_type": "stream",
     "text": [
      "Depth: 1 - 0.3s\n",
      "Depth: 2 - 2.5s\n",
      "Depth: 3 - 20.6s\n"
     ]
    }
   ],
   "source": [
    "# Ковер Серпинского\n",
    "def sierpinski_quad_fractal(step, n):\n",
    "    if n == 0: return\n",
    "    if n == 1: turtle.begin_fill()\n",
    "    for _ in range(4):\n",
    "        for _ in range(2):\n",
    "            sierpinski_quad_fractal(step / 3, n - 1)\n",
    "            turtle.forward(step)\n",
    "        turtle.forward(step)\n",
    "        turtle.right(90)\n",
    "    if n == 1: turtle.end_fill()\n",
    "\n",
    "benchmark_fractal(sierpinski_quad_fractal, 3)"
   ]
  },
  {
   "cell_type": "code",
   "execution_count": 7,
   "metadata": {},
   "outputs": [
    {
     "name": "stdout",
     "output_type": "stream",
     "text": [
      "Depth: 1 - 0.1s\n",
      "Depth: 2 - 0.4s\n",
      "Depth: 3 - 0.9s\n",
      "Depth: 4 - 1.9s\n",
      "Depth: 5 - 3.9s\n",
      "Depth: 6 - 7.9s\n",
      "Depth: 7 - 16.0s\n",
      "Depth: 8 - 31.9s\n"
     ]
    }
   ],
   "source": [
    "# Дерево Пифагора\n",
    "def pythagoras_tree_iter(step, n, dir = 1):\n",
    "    if n == 0: return\n",
    "    next_step = math.sqrt((step ** 2) / 2) \n",
    "    turtle.forward(step)\n",
    "    if n > 1:\n",
    "        turtle.left(45 * dir)\n",
    "        pythagoras_tree_iter(next_step, n - 1, dir)\n",
    "        turtle.left(135 * dir)\n",
    "        turtle.forward(step)\n",
    "        turtle.left(45 * dir)\n",
    "        pythagoras_tree_iter(next_step, n - 1, -dir)\n",
    "        turtle.right(45 * dir)\n",
    "        turtle.forward(step)\n",
    "    else:\n",
    "        turtle.right(90 * dir)\n",
    "        turtle.forward(step)\n",
    "        turtle.right(90 * dir)\n",
    "        turtle.forward(step)\n",
    "    turtle.right(90 * dir)\n",
    "    turtle.forward(step)\n",
    "\n",
    "\n",
    "def pythagoras_tree(step, n):\n",
    "    turtle.left(90)\n",
    "    pythagoras_tree_iter(step, n)\n",
    "\n",
    "\n",
    "benchmark_fractal(pythagoras_tree, 8)"
   ]
  },
  {
   "cell_type": "code",
   "execution_count": 8,
   "metadata": {},
   "outputs": [],
   "source": [
    "turtle.done()"
   ]
  },
  {
   "cell_type": "markdown",
   "metadata": {
    "id": "diOb-K7LnO5a"
   },
   "source": [
    "### Вывод"
   ]
  },
  {
   "cell_type": "markdown",
   "metadata": {},
   "source": [
    "Реализованы генерации 6 видов фракталов с использованием рекурсивных функций, для каждого вида придусмотрено указание глубины фрактала и построение таблицы зависимости времени построения фрактала от глубины."
   ]
  }
 ],
 "metadata": {
  "colab": {
   "collapsed_sections": [],
   "name": "Lab5.ipynb",
   "provenance": []
  },
  "kernelspec": {
   "display_name": "Python 3 (ipykernel)",
   "language": "python",
   "name": "python3"
  },
  "language_info": {
   "codemirror_mode": {
    "name": "ipython",
    "version": 3
   },
   "file_extension": ".py",
   "mimetype": "text/x-python",
   "name": "python",
   "nbconvert_exporter": "python",
   "pygments_lexer": "ipython3",
   "version": "3.8.3"
  }
 },
 "nbformat": 4,
 "nbformat_minor": 1
}
