{
 "cells": [
  {
   "cell_type": "markdown",
   "metadata": {},
   "source": [
    "# Лабораторная работа №1\n",
    "## Выполнил студент группы БФИ2001 Заморский Пётр Владимирович"
   ]
  },
  {
   "cell_type": "markdown",
   "metadata": {},
   "source": [
    "### Оглавление\n",
    "1. [Задание 1](#Задание-№1)\n",
    "2. [Задание 2](#Задание-№2)\n",
    "3. [Задание 3](#Задание-№3)\n",
    "4. [Вывод](#Вывод)"
   ]
  },
  {
   "cell_type": "markdown",
   "metadata": {},
   "source": [
    "### Задание №1\n",
    "<i> Вызвать функцию print() и передать туда строку Hello, World! </i>"
   ]
  },
  {
   "cell_type": "code",
   "execution_count": 1,
   "metadata": {
    "scrolled": true
   },
   "outputs": [
    {
     "name": "stdout",
     "output_type": "stream",
     "text": [
      "Hello, World!\n"
     ]
    }
   ],
   "source": [
    "print(\"Hello, World!\")"
   ]
  },
  {
   "cell_type": "markdown",
   "metadata": {},
   "source": [
    "### Задание №2\n",
    "Написать генератор случайных матриц(многомерных), который принимает\n",
    "опциональные параметры <b>m</b>, <b>n</b>, <b>min_limit</b>, <b>max_limit</b>, где <b>m</b> и <b>n</b> указывают размер\n",
    "матрицы, а <b>min_lim</b> и <b>max_lim</b> - минимальное и максимальное значение для\n",
    "генерируемого числа."
   ]
  },
  {
   "cell_type": "code",
   "execution_count": 2,
   "metadata": {},
   "outputs": [],
   "source": [
    "import random\n",
    "import time\n",
    "\n",
    "def random_array(m=1000, n=1, min_limit=-1000, max_limit=1000):\n",
    "    arr = []\n",
    "    for x in range(m):\n",
    "        row = []\n",
    "        for y in range(n):\n",
    "            row.append(random.randrange(min_limit, max_limit + 1))\n",
    "        arr.append(row)\n",
    "    return arr"
   ]
  },
  {
   "cell_type": "code",
   "execution_count": 3,
   "metadata": {},
   "outputs": [
    {
     "name": "stdout",
     "output_type": "stream",
     "text": [
      "10\n",
      "2\n",
      "-10\n",
      "10\n"
     ]
    },
    {
     "data": {
      "text/plain": [
       "[[8, 10],\n",
       " [-3, 0],\n",
       " [-1, 6],\n",
       " [6, -1],\n",
       " [-5, 9],\n",
       " [4, -1],\n",
       " [-6, -8],\n",
       " [-3, 8],\n",
       " [3, 2],\n",
       " [3, -6]]"
      ]
     },
     "execution_count": 3,
     "metadata": {},
     "output_type": "execute_result"
    }
   ],
   "source": [
    "user_m = int(input())\n",
    "user_n = int(input())\n",
    "user_min_limit = int(input())\n",
    "user_max_limit = int(input())\n",
    "random_array(user_m, user_n, user_min_limit, user_max_limit)"
   ]
  },
  {
   "cell_type": "markdown",
   "metadata": {},
   "source": [
    "### Задание №3\n",
    "Реализовать методы сортировки строк числовой матрицы в соответствии с\n",
    "заданием. Оценить время работы каждого алгоритма сортировки и сравнить его со\n",
    "временем стандартной функции сортировки. Испытания проводить на сгенерированных\n",
    "матрицах."
   ]
  },
  {
   "cell_type": "code",
   "execution_count": 4,
   "metadata": {},
   "outputs": [],
   "source": [
    "import copy\n",
    "\n",
    "source_arr = random_array(1000)"
   ]
  },
  {
   "cell_type": "code",
   "execution_count": 5,
   "metadata": {},
   "outputs": [
    {
     "name": "stdout",
     "output_type": "stream",
     "text": [
      "--- 46 ms ---\n"
     ]
    }
   ],
   "source": [
    "# Сортировка выбором.\n",
    "# Берётся срез массива, в котором минимальный элемент переносят в самый левый угол,\n",
    "# после чего срез уменьшается и цикл повторяется.\n",
    "def selection_sort(arr):\n",
    "    for i in range(len(arr)):\n",
    "        minV = arr[i]\n",
    "        minI = i\n",
    "        for j in range(i + 1, len(arr)):\n",
    "            if (arr[j] < minV): \n",
    "                minV = arr[j]\n",
    "                minI = j\n",
    "        arr[i], arr[minI] = arr[minI], arr[i]\n",
    "\n",
    "arr = source_arr.copy()\n",
    "start_time = time.time()\n",
    "\n",
    "selection_sort(arr)\n",
    "\n",
    "print(\"--- {0} ms ---\".format(round((time.time() - start_time)*1000)))"
   ]
  },
  {
   "cell_type": "code",
   "execution_count": 6,
   "metadata": {
    "scrolled": true
   },
   "outputs": [
    {
     "name": "stdout",
     "output_type": "stream",
     "text": [
      "--- 97 ms ---\n"
     ]
    }
   ],
   "source": [
    "# Сортировка вставкой.\n",
    "def insertion_sort(arr):\n",
    "    for i in range(1, len(arr)):\n",
    "        j = i\n",
    "        while j > 1 and arr[j - 1] > arr[j]:\n",
    "            arr[j], arr[j - 1] = arr[j - 1], arr[j]\n",
    "            j -= 1\n",
    "\n",
    "arr = source_arr.copy()\n",
    "start_time = time.time()\n",
    "\n",
    "insertion_sort(arr)\n",
    "\n",
    "print(\"--- {0} ms ---\".format(round((time.time() - start_time)*1000)))"
   ]
  },
  {
   "cell_type": "code",
   "execution_count": 7,
   "metadata": {},
   "outputs": [
    {
     "name": "stdout",
     "output_type": "stream",
     "text": [
      "--- 116 ms ---\n"
     ]
    }
   ],
   "source": [
    "# Сортировка обменом. || Сортировка пузырьком.\n",
    "def exchange_sort(arr):\n",
    "    f = True\n",
    "    r = len(arr)\n",
    "    while f:\n",
    "        f = False\n",
    "        for i in range(r - 1):\n",
    "            if arr[i] > arr[i + 1]:\n",
    "                arr[i], arr[i + 1] = arr[i + 1], arr[i]\n",
    "                f = True\n",
    "        r -= 1\n",
    "\n",
    "arr = source_arr.copy()\n",
    "start_time = time.time()\n",
    "\n",
    "exchange_sort(arr)\n",
    "\n",
    "print(\"--- {0} ms ---\".format(round((time.time() - start_time)*1000)))"
   ]
  },
  {
   "cell_type": "code",
   "execution_count": 8,
   "metadata": {},
   "outputs": [
    {
     "name": "stdout",
     "output_type": "stream",
     "text": [
      "--- 5 ms ---\n"
     ]
    }
   ],
   "source": [
    "# Сортировка Шелла.\n",
    "def shell_sort(arr):\n",
    "    step = len(arr) // 2\n",
    "    while step >= 1:\n",
    "        for i in range(step, len(arr)):\n",
    "            j = i\n",
    "            diff = j - step\n",
    "            while diff >= 0 and arr[diff] > arr[j]:\n",
    "                arr[diff], arr[j] = arr[j], arr[diff]\n",
    "                j = diff\n",
    "                diff = j - step\n",
    "        step //= 2\n",
    "\n",
    "arr = source_arr.copy()\n",
    "start_time = time.time()\n",
    "\n",
    "shell_sort(arr)\n",
    "\n",
    "print(\"--- {0} ms ---\".format(round((time.time() - start_time)*1000)))"
   ]
  },
  {
   "cell_type": "code",
   "execution_count": 9,
   "metadata": {},
   "outputs": [
    {
     "name": "stdout",
     "output_type": "stream",
     "text": [
      "--- 3 ms ---\n"
     ]
    }
   ],
   "source": [
    "# Быстрая сортировка.\n",
    "def quick_sort(arr, left, right):\n",
    "    if right - left <= 1: return\n",
    "    z = arr[left + (right - left) // 2]\n",
    "    l = left\n",
    "    r = right - 1\n",
    "    while l <= r:\n",
    "        while arr[l] < z: l += 1\n",
    "        while arr[r] > z: r -= 1\n",
    "        if l <= r:\n",
    "            arr[r], arr[l] = arr[l], arr[r]\n",
    "            l += 1\n",
    "            r -= 1\n",
    "    if left < r: quick_sort(arr, left, r + 1)\n",
    "    if l < right: quick_sort(arr, l, right)\n",
    "\n",
    "arr = source_arr.copy()\n",
    "start_time = time.time()\n",
    "\n",
    "quick_sort(arr, 0, len(arr))\n",
    "\n",
    "print(\"--- {0} ms ---\".format(round((time.time() - start_time)*1000)))"
   ]
  },
  {
   "cell_type": "code",
   "execution_count": 10,
   "metadata": {},
   "outputs": [
    {
     "name": "stdout",
     "output_type": "stream",
     "text": [
      "--- 24 ms ---\n"
     ]
    }
   ],
   "source": [
    "# Класс, реализующий преоритетную очередь-кучу\n",
    "class PriorityQueue:\n",
    "    def __init__(self):\n",
    "        self.heap = []\n",
    "        \n",
    "    @property\n",
    "    def size(self):\n",
    "        return len(self.heap)\n",
    "        \n",
    "    def get_right_child(self, index):\n",
    "        if 2 * index < self.size and index >= 0:\n",
    "            return 2 * index + 1\n",
    "        return -1\n",
    "\n",
    "    def get_left_child(self, index):\n",
    "        if 2 * index < self.size + 1 and index >= 0:\n",
    "            return 2 * index + 2\n",
    "        return -1\n",
    "\n",
    "    def get_parent(self, index):\n",
    "        if index > 0 and index - 1 < self.size:\n",
    "            return index // 2\n",
    "        return -1\n",
    "    \n",
    "    def swap(self, a, b):\n",
    "        self.heap[a], self.heap[b] = self.heap[b], self.heap[a]\n",
    "\n",
    "    def heapify(self, index):\n",
    "        l = 2 * index + 1\n",
    "        r = l + 1\n",
    "\n",
    "        smallest = index\n",
    "\n",
    "        if l < self.size and l >= 0:\n",
    "            if self.heap[l] < self.heap[smallest]:\n",
    "                smallest = l\n",
    "\n",
    "        if r < self.size and r >= 0:\n",
    "            if self.heap[r] < self.heap[smallest]:\n",
    "                smallest = r\n",
    "\n",
    "        if smallest != index:\n",
    "            self.swap(index, smallest)\n",
    "            self.heapify(smallest)\n",
    "\n",
    "    def pop(self):\n",
    "        last = self.heap.pop()\n",
    "        \n",
    "        if self.size > 0:\n",
    "            min = self.heap[0]\n",
    "            self.heap[0] = last\n",
    "            self.heapify(0)\n",
    "            return min\n",
    "        else:\n",
    "            return last\n",
    "\n",
    "    def decrease(self, index, item):\n",
    "        heap = self.heap\n",
    "        \n",
    "        while index > 0:\n",
    "            parent_index = (index - 1) >> 1\n",
    "            parent = heap[parent_index]\n",
    "            if parent > item:\n",
    "                heap[index] = parent\n",
    "                index = parent_index\n",
    "            else: break\n",
    "        heap[index] = item\n",
    "\n",
    "    def push(self, item):\n",
    "        self.heap.append(item)\n",
    "        self.decrease(self.size - 1, item)\n",
    "\n",
    "# Турнирная сортировка.\n",
    "def tournament_sort(arr):\n",
    "    size = len(arr)\n",
    "    max_size = 16\n",
    "    pq = PriorityQueue()\n",
    "    \n",
    "    while pq.size < max_size and len(arr) > 0:\n",
    "        pq.push(arr.pop(0))\n",
    "    \n",
    "    winners = []\n",
    "    losers = []\n",
    "    \n",
    "    while len(arr) > 0:\n",
    "        if len(winners) == 0:\n",
    "            winners.append(pq.pop())\n",
    "        if arr[0] > winners[-1]:\n",
    "            pq.push(arr.pop(0))\n",
    "        else:\n",
    "            losers.append(arr.pop(0))\n",
    "        \n",
    "        if pq.size > 0:\n",
    "            winners.append(pq.pop())\n",
    "    \n",
    "    while pq.size > 0:\n",
    "        winners.append(pq.pop()) \n",
    "        \n",
    "    if len(losers) == 0:\n",
    "        return winners\n",
    "    \n",
    "    losers = tournament_sort(losers)\n",
    "    \n",
    "    def merge(array_a, array_b, result):\n",
    "        a = 0\n",
    "        b = 0\n",
    "        r = 0\n",
    "        while a < len(array_a) and b < len(array_b):\n",
    "            if array_a[a] < array_b[b]:\n",
    "                result[r] = array_a[a]\n",
    "                a += 1\n",
    "            else:\n",
    "                result[r] = array_b[b]\n",
    "                b += 1\n",
    "            r += 1\n",
    "        while a < len(array_a):\n",
    "            result[r] = array_a[a]\n",
    "            a += 1\n",
    "            r += 1\n",
    "        while b < len(array_b):\n",
    "            result[r] = array_b[b]\n",
    "            b += 1\n",
    "            r += 1\n",
    "    \n",
    "    arr = list(range(size))\n",
    "    merge(losers, winners, arr)\n",
    "    return arr;\n",
    "\n",
    "arr = source_arr.copy()\n",
    "start_time = time.time()\n",
    "\n",
    "arr = tournament_sort(arr)\n",
    "\n",
    "print(\"--- {0} ms ---\".format(round((time.time() - start_time)*1000)))"
   ]
  },
  {
   "cell_type": "code",
   "execution_count": 11,
   "metadata": {},
   "outputs": [
    {
     "name": "stdout",
     "output_type": "stream",
     "text": [
      "--- 1 ms ---\n"
     ]
    }
   ],
   "source": [
    "# Стандартная сортировка\n",
    "arr = source_arr.copy()\n",
    "start_time = time.time()\n",
    "\n",
    "arr.sort()\n",
    "\n",
    "print(\"--- {0} ms ---\".format(round((time.time() - start_time)*1000)))"
   ]
  },
  {
   "cell_type": "markdown",
   "metadata": {},
   "source": [
    "### Вывод\n"
   ]
  },
  {
   "cell_type": "markdown",
   "metadata": {},
   "source": [
    "Мы изучили принципы работы с матрицами в python и реализовали основные алгоритмы их сортировки, сравнив скорость выполнения с стандартной функцией сортировки."
   ]
  }
 ],
 "metadata": {
  "kernelspec": {
   "display_name": "Python 3",
   "language": "python",
   "name": "python3"
  },
  "language_info": {
   "codemirror_mode": {
    "name": "ipython",
    "version": 3
   },
   "file_extension": ".py",
   "mimetype": "text/x-python",
   "name": "python",
   "nbconvert_exporter": "python",
   "pygments_lexer": "ipython3",
   "version": "3.8.3"
  }
 },
 "nbformat": 4,
 "nbformat_minor": 5
}
