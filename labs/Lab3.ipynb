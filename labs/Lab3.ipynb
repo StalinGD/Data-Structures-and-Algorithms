{
 "cells": [
  {
   "cell_type": "markdown",
   "id": "db4b50f0",
   "metadata": {},
   "source": [
    "# Лабораторная работа №3\n",
    "## Выполнил студент группы БФИ2001 Заморский Пётр Владимирович"
   ]
  },
  {
   "cell_type": "markdown",
   "id": "annual-symbol",
   "metadata": {},
   "source": [
    "### Оглавление\n",
    "1. [Задание 1](#Задание-№1)\n",
    "2. [Задание 2](#Задание-№2)\n",
    "4. [Вывод](#Вывод)"
   ]
  },
  {
   "cell_type": "markdown",
   "id": "independent-spirit",
   "metadata": {},
   "source": [
    "> Дополнительные модули, использованные при выполнение лабораторной"
   ]
  },
  {
   "cell_type": "code",
   "execution_count": 1,
   "id": "4839be2b",
   "metadata": {},
   "outputs": [],
   "source": [
    "# Необходим при замере скорости выполнения кода\n",
    "from datetime import datetime as t\n",
    "# Нужен для создания словаря в алг. Бойера-Мура\n",
    "from collections import defaultdict"
   ]
  },
  {
   "cell_type": "markdown",
   "id": "inclusive-motorcycle",
   "metadata": {},
   "source": [
    "### Задание №1\n",
    "Реализовать методы поиска подстроки в строке. Добавить возможность ввода строки и подстроки с клавиатуры. Предусмотреть возможность существования пробела. Реализовать возможность выбора опции чувствительности или нечувствительности к регистру. Оценить время работы каждого алгоритма поиска и сравнить его со временем работы стандартной функции поиска, используемой в выбранном языке программирования."
   ]
  },
  {
   "cell_type": "markdown",
   "id": "interracial-communication",
   "metadata": {},
   "source": [
    "#### Алгоритм Кнута-Морриса-Пратта"
   ]
  },
  {
   "cell_type": "code",
   "execution_count": 2,
   "id": "presidential-level",
   "metadata": {},
   "outputs": [
    {
     "name": "stdout",
     "output_type": "stream",
     "text": [
      "70999 μs\n"
     ]
    }
   ],
   "source": [
    "def compare_chars(a, b, case_sensitive):\n",
    "    if case_sensitive: return a == b\n",
    "    return a.casefold() == b.casefold()\n",
    "\n",
    "def string_prefix(string, case_sensitive = True):\n",
    "    result = [0] * len(string)\n",
    "    for i in range(1, len(string)):\n",
    "        j = result[i - 1]\n",
    "        while j > 0 and not compare_chars(string[j], string[i], case_sensitive):\n",
    "            j = result[j - 1]\n",
    "        if compare_chars(string[j], string[i], case_sensitive):\n",
    "            j += 1\n",
    "        result[i] = j\n",
    "    return result\n",
    "\n",
    "def kmp_find(source, target, only_first = False, case_sensitive = True, is_word = False):   \n",
    "    result = []\n",
    "    prefix = string_prefix(target)\n",
    "    i = j = 0\n",
    "    while i < len(source):\n",
    "        while j > 0 and not compare_chars(source[i], target[j], case_sensitive):\n",
    "            j = prefix[j - 1]\n",
    "        if compare_chars(source[i], target[j], case_sensitive):\n",
    "            j += 1\n",
    "            if j == len(target):\n",
    "                if not is_word or i == len(source) - 1 or not source[i + 1].isalnum():\n",
    "                    if only_first: return i - j + 1\n",
    "                    result.append(i - j + 1)\n",
    "                j = prefix[j - 1]\n",
    "        elif is_word and j == 0 and source[i].isalnum():\n",
    "            i += 1\n",
    "        i += 1\n",
    "    return result\n",
    "\n",
    "test_strings = (\"AbcDABCDaabcdadbbabcABC\" * 100 + \"aaab\" + \"AbcDABCDaabcdadbbabcABC\" * 100, \"aaab\")\n",
    "\n",
    "start_time = t.now()\n",
    "\n",
    "for _ in range(100):    \n",
    "    kmp_find(test_strings[0], test_strings[1], True)\n",
    "\n",
    "print(f\"{(t.now() - start_time).microseconds} μs\")"
   ]
  },
  {
   "cell_type": "markdown",
   "id": "downtown-option",
   "metadata": {},
   "source": [
    "#### Упрощенный алгоритм Бойера-Мура"
   ]
  },
  {
   "cell_type": "code",
   "execution_count": 3,
   "id": "respective-reggae",
   "metadata": {},
   "outputs": [
    {
     "name": "stdout",
     "output_type": "stream",
     "text": [
      "61998 μs\n"
     ]
    }
   ],
   "source": [
    "def compare_chars(a, b, case_sensitive):\n",
    "    if case_sensitive: return a == b\n",
    "    return a.casefold() == b.casefold()\n",
    "\n",
    "def string_shift(string, case_sensitive = True):\n",
    "    shift = defaultdict()\n",
    "    last_char = string[-1]\n",
    "    if not case_sensitive: last_char = last_char.casefold()\n",
    "    for i in range(len(string) - 1):\n",
    "        c = string[i]\n",
    "        if not case_sensitive: c = c.casefold()\n",
    "        if c != last_char:\n",
    "            shift[c] = len(string) - i - 1\n",
    "    return shift\n",
    "\n",
    "def bm_find(source, target, only_first = False, case_sensitive = True, is_word = False):\n",
    "    shift = string_shift(target, case_sensitive)\n",
    "    i = len(target) - 1\n",
    "    j = 0\n",
    "    result = []\n",
    "    while i < len(source):\n",
    "        f = False\n",
    "        if is_word and i < len(source) - 1 and source[i + 1].isalnum():\n",
    "            c = source[i - j]\n",
    "            if not case_sensitive: c = c.casefold()\n",
    "            i += shift.get(c, len(target) - 1)\n",
    "            j = 0\n",
    "            continue\n",
    "        while compare_chars(source[i - j], target[-(j + 1)], case_sensitive):\n",
    "            j += 1\n",
    "            if j == len(target):\n",
    "                if not is_word or i - j + 1 == 0 or not source[i - j].isalnum():\n",
    "                    if only_first: return i - j + 1\n",
    "                    result.append(i - j + 1)\n",
    "                    f = True\n",
    "                    j = 0\n",
    "                    i += len(target)\n",
    "                break\n",
    "        if not f:\n",
    "            c = source[i - j]\n",
    "            if not case_sensitive: c = c.casefold()\n",
    "            i += shift.get(c, len(target) + j) - j\n",
    "            j = 0\n",
    "    return result\n",
    "\n",
    "start_time = t.now()\n",
    "\n",
    "for _ in range(100):    \n",
    "    bm_find(test_strings[0], test_strings[1], True)\n",
    "\n",
    "print(f\"{(t.now() - start_time).microseconds} μs\")"
   ]
  },
  {
   "cell_type": "markdown",
   "id": "2f5c1d09",
   "metadata": {},
   "source": [
    "#### Стандартная функция"
   ]
  },
  {
   "cell_type": "code",
   "execution_count": 4,
   "id": "7630f9ba",
   "metadata": {},
   "outputs": [
    {
     "name": "stdout",
     "output_type": "stream",
     "text": [
      "1004 μs\n"
     ]
    }
   ],
   "source": [
    "start_time = t.now()\n",
    "\n",
    "for _ in range(100):    \n",
    "    test_strings[0].find(test_strings[1])\n",
    "\n",
    "print(f\"{(t.now() - start_time).microseconds} μs\")"
   ]
  },
  {
   "cell_type": "markdown",
   "id": "9afc6bc6",
   "metadata": {},
   "source": [
    "#### Сравнение всех 3-х функций с пользовательским вводом"
   ]
  },
  {
   "cell_type": "code",
   "execution_count": 5,
   "id": "b1d6903b",
   "metadata": {},
   "outputs": [
    {
     "name": "stdout",
     "output_type": "stream",
     "text": [
      "KMP:  [1, 7] ,   0  μs\n",
      "BM:  [1, 7] ,   0  μs\n",
      "Standart:  1 ,   0  μs\n"
     ]
    }
   ],
   "source": [
    "source = input(\"Source string: \")\n",
    "target = input(\"Target substring to find: \")\n",
    "\n",
    "start_time = t.now()\n",
    "r = kmp_find(source, target)\n",
    "print(\"KMP: \", r, \",  \", (t.now() - start_time).microseconds, \" μs\")\n",
    "start_time = t.now()\n",
    "r = bm_find(source, target)\n",
    "print(\"BM: \", r, \",  \", (t.now() - start_time).microseconds, \" μs\")\n",
    "start_time = t.now()\n",
    "r = source.find(target)\n",
    "print(\"Standart: \", r, \",  \", (t.now() - start_time).microseconds, \" μs\")\n"
   ]
  },
  {
   "cell_type": "markdown",
   "id": "hybrid-memorial",
   "metadata": {},
   "source": [
    "### Задание №2\n",
    "Написать программу, определяющую, является ли данное\n",
    "расположение «решаемым», то есть можно ли из него за конечное число\n",
    "шагов перейти к правильному. Если это возможно, то необходимо найти хотя\n",
    "бы одно решение - последовательность движений, после которой числа будут\n",
    "расположены в правильном порядке.\n",
    "#### Входные данные: массив чисел, представляющий собой расстановку в\n",
    "Порядке «слева направо, сверху вниз». Число 0 обозначает пустое поле.\n",
    "Например, массив [1, 2, 3, 4, 5, 6, 7, 8, 9, 10, 11, 12, 13, 14, 15, 0] представляет\n",
    "собой «решенную» позицию элементов.\n",
    "#### Выходные данные: если решения нет, то функция должна вернуть\n",
    "Пустой массив []. Если решение есть, то необходимо представить решение —\n",
    "для каждого шага записывается номер передвигаемого на данном шаге\n",
    "элемента. "
   ]
  },
  {
   "cell_type": "code",
   "execution_count": 6,
   "id": "eleven-generic",
   "metadata": {},
   "outputs": [
    {
     "data": {
      "text/plain": [
       "[12, 11, 7, 9, 1, 5, 6, 2, 5, 1, 9, 6, 2, 5, 1, 2, 6, 7, 11, 12]"
      ]
     },
     "execution_count": 6,
     "metadata": {},
     "output_type": "execute_result"
    }
   ],
   "source": [
    "def check_15_valid(table):\n",
    "    n = 0\n",
    "    for i in range(1, 16):\n",
    "        inx = table.index(i)\n",
    "        row = (inx // 4) + 1\n",
    "        count = 0\n",
    "        for j in range(inx + 1, 16):\n",
    "            v = table[j]\n",
    "            if v > 0 and v < i: count += 1\n",
    "        n += count + row \n",
    "    return n % 2 == 0\n",
    "\n",
    "def cell_pos(index):\n",
    "    return (index % 4, index // 4)\n",
    "\n",
    "def cell_index(pos):\n",
    "    return pos[0] * 4 + pos[1]\n",
    "\n",
    "class AStarNode:\n",
    "    def __init__(self, parent, step, distance, table, moved_num):\n",
    "        self.parent = parent\n",
    "        self.step = step\n",
    "        self.distance = distance\n",
    "        self.table = table\n",
    "        self.space_index = table.index(0)\n",
    "        self.space_position = cell_pos(self.space_index)\n",
    "        self.moved_num = moved_num\n",
    "\n",
    "    def __eq__(self, other):\n",
    "        if isinstance(other, AStarNode):\n",
    "            return self.table == other.table\n",
    "        return False\n",
    "\n",
    "    def __ne__(self, other):\n",
    "        return not self.__eq__(other)\n",
    "    \n",
    "    @property\n",
    "    def price(self):\n",
    "        return self.step + self.distance * 10\n",
    "\n",
    "    def get_neighbors(self):\n",
    "        space_position = self.space_position\n",
    "        result = []\n",
    "        if space_position[0] > 0:\n",
    "            result.append(self.get_neighbor((-1, 0)))\n",
    "        if space_position[0] < 3:\n",
    "            result.append(self.get_neighbor((1, 0)))\n",
    "        if space_position[1] > 0:\n",
    "            result.append(self.get_neighbor((0, -1)))\n",
    "        if space_position[1] < 3:\n",
    "            result.append(self.get_neighbor((0, 1)))\n",
    "        return result\n",
    "    \n",
    "    def get_neighbor(self, move):\n",
    "        new_table = self.table.copy()\n",
    "        new_cell_index = cell_index((self.space_position[0] + move[0], self.space_position[1] + move[1]))\n",
    "        moved_num = new_table[new_cell_index]\n",
    "        new_table[self.space_index], new_table[new_cell_index] = moved_num, new_table[self.space_index]\n",
    "        return AStarNode(self, self.step + 1, calc_distance(new_table), new_table, moved_num)\n",
    "\n",
    "def calc_distance(table):\n",
    "    result = 0\n",
    "    for i in range(0, 16):\n",
    "        if table[i] != i + 1 and table[i] > 0:\n",
    "            result += 1\n",
    "    return result\n",
    "\n",
    "def resolve_15(table):\n",
    "    if not check_15_valid(table): return []\n",
    "    \n",
    "    open = [AStarNode(None, 0, calc_distance(table), table, 0)]\n",
    "    close = []\n",
    "\n",
    "    def get_min_open():\n",
    "        min_node = None\n",
    "        min_price = 99999\n",
    "        for n in open:\n",
    "            if n.price < min_price:\n",
    "                min_price = n.price\n",
    "                min_node = n\n",
    "        return min_node\n",
    "\n",
    "    i = 0\n",
    "\n",
    "    while len(open) > 0:\n",
    "        current = get_min_open()\n",
    "        #print(f\"--- {i} ---\")\n",
    "        #print((current.step, current.distance))\n",
    "        #print(current.table)\n",
    "\n",
    "        i += 1\n",
    "\n",
    "        if calc_distance(current.table) == 0:\n",
    "            result = []\n",
    "            while current is not None and current.moved_num > 0:\n",
    "                result.append(current.moved_num)\n",
    "                current = current.parent\n",
    "            result.reverse()\n",
    "            return result\n",
    "        \n",
    "        open.remove(current)\n",
    "        close.append(current)\n",
    "        neighbors = current.get_neighbors()\n",
    "        for neighbor in neighbors:\n",
    "            if neighbor in close: continue\n",
    "            step = current.step + 1\n",
    "            isBetter = False\n",
    "            if neighbor not in open:\n",
    "                neighbor.distance = calc_distance(neighbor.table)\n",
    "                open.append(neighbor)\n",
    "                isBetter = True\n",
    "            else:\n",
    "                isBetter = step < neighbor.step\n",
    "            if isBetter:\n",
    "                neighbor.parent = current\n",
    "                neighbor.step = step\n",
    "\n",
    "table = [2, 1, 3, 4, 6, 5, 7, 8, 9, 10, 11, 12, 13, 14, 15, 0]\n",
    "resolve_15(table)"
   ]
  },
  {
   "cell_type": "markdown",
   "id": "arbitrary-amazon",
   "metadata": {},
   "source": [
    "### Вывод"
   ]
  },
  {
   "cell_type": "markdown",
   "id": "71bc58bf",
   "metadata": {},
   "source": [
    "Мы реализовали алгоритмы поиска подстроки в строке: алгоритм Кнута-Морриса-Пратта и упрощенный алгоритм Бойера-Мура (алгоритм Бойера-Мура-Хорспула), которые выполняют поиск за линейное время O(n).\n",
    "Кроме того, реализован поиск решения игры в пятнашки через алгоритм A*."
   ]
  }
 ],
 "metadata": {
  "kernelspec": {
   "display_name": "Python 3 (ipykernel)",
   "language": "python",
   "name": "python3"
  },
  "language_info": {
   "codemirror_mode": {
    "name": "ipython",
    "version": 3
   },
   "file_extension": ".py",
   "mimetype": "text/x-python",
   "name": "python",
   "nbconvert_exporter": "python",
   "pygments_lexer": "ipython3",
   "version": "3.10.2"
  }
 },
 "nbformat": 4,
 "nbformat_minor": 5
}
